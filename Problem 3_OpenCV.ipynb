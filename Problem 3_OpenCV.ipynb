{
 "cells": [
  {
   "cell_type": "code",
   "execution_count": 61,
   "id": "5359b6b4-6e94-477d-b6ee-96b8a2194491",
   "metadata": {},
   "outputs": [],
   "source": [
    "import cv2\n",
    "#import pandas as pd\n",
    "#import numpy as np\n",
    "import os"
   ]
  },
  {
   "cell_type": "code",
   "execution_count": 62,
   "id": "0f0b43ce",
   "metadata": {},
   "outputs": [],
   "source": [
    "vid = cv2.VideoCapture(\"C:\\\\Users\\\\kumar\\\\pyproj\\\\video.avi\")"
   ]
  },
  {
   "cell_type": "code",
   "execution_count": 63,
   "id": "a5addc3b",
   "metadata": {},
   "outputs": [
    {
     "data": {
      "text/plain": [
       "1796.0"
      ]
     },
     "execution_count": 63,
     "metadata": {},
     "output_type": "execute_result"
    }
   ],
   "source": [
    "vid.get(cv2.CAP_PROP_FRAME_COUNT)"
   ]
  },
  {
   "cell_type": "code",
   "execution_count": 64,
   "id": "fceef857",
   "metadata": {},
   "outputs": [
    {
     "data": {
      "text/plain": [
       "29.0"
      ]
     },
     "execution_count": 64,
     "metadata": {},
     "output_type": "execute_result"
    }
   ],
   "source": [
    "vid.get(cv2.CAP_PROP_FPS)"
   ]
  },
  {
   "cell_type": "code",
   "execution_count": 65,
   "id": "8545edba",
   "metadata": {},
   "outputs": [
    {
     "data": {
      "text/plain": [
       "61.93103448275862"
      ]
     },
     "execution_count": 65,
     "metadata": {},
     "output_type": "execute_result"
    }
   ],
   "source": [
    "1796/29.0"
   ]
  },
  {
   "cell_type": "code",
   "execution_count": 66,
   "id": "58ace0f6",
   "metadata": {},
   "outputs": [
    {
     "data": {
      "text/plain": [
       "870"
      ]
     },
     "execution_count": 66,
     "metadata": {},
     "output_type": "execute_result"
    }
   ],
   "source": [
    "29*30"
   ]
  },
  {
   "cell_type": "code",
   "execution_count": 67,
   "id": "cc2d0730",
   "metadata": {},
   "outputs": [
    {
     "data": {
      "text/plain": [
       "1015"
      ]
     },
     "execution_count": 67,
     "metadata": {},
     "output_type": "execute_result"
    }
   ],
   "source": [
    "29*35"
   ]
  },
  {
   "cell_type": "code",
   "execution_count": 68,
   "id": "3ead24cf",
   "metadata": {},
   "outputs": [],
   "source": [
    "#main code\n",
    "currentframe = 0\n",
    "if not os.path.exists('data'):\n",
    "    os.makedirs('data')\n",
    "    \n",
    "while (True):\n",
    "    \n",
    "    ret, frame = vid.read()\n",
    "    if ret == False:\n",
    "        break\n",
    "    #cv2.imshow(\"Output\", frame)\n",
    "    cv2.imwrite('./data' + '/frame' + str(currentframe) + '.png', frame)\n",
    "    currentframe +=1\n"
   ]
  },
  {
   "cell_type": "code",
   "execution_count": 73,
   "id": "15c23870",
   "metadata": {},
   "outputs": [],
   "source": [
    "from os.path import isfile, join\n",
    "\n",
    "def convert_frames_to_video(pathIn,pathOut,fps):\n",
    "    frame_array = []\n",
    "    files = [f for f in os.listdir(pathIn) if isfile(join(pathIn, f))]\n",
    "\n",
    "    #for sorting the file names properly\n",
    "    files.sort(key = lambda x: int(x[5:-4]))\n",
    "\n",
    "    for i in range(870,1016):\n",
    "        filename=pathIn + files[i]\n",
    "        #reading each files\n",
    "        img = cv2.imread(filename)\n",
    "        \n",
    "        height, width, layers = img.shape\n",
    "        size = (width,height)\n",
    "        \n",
    "        cv2.rectangle(img, (910, 590), (1100, 490), (0, 0, 255), -1)\n",
    "        #print(filename)\n",
    "        #inserting the frames into an image array\n",
    "        frame_array.append(img)\n",
    "\n",
    "    out = cv2.VideoWriter(pathOut,cv2.VideoWriter_fourcc(*'DIVX'), fps, size)\n",
    "    \n",
    "    for i in range(len(frame_array)):\n",
    "        # writing to a image array\n",
    "        out.write(frame_array[i])\n",
    "        #print(out.get(cv2.CAP_PROP_FRAME_COUNT))\n",
    "    out.release()\n",
    "    cv2.destroyAllWindows()\n",
    "\n",
    "def main():\n",
    "    pathIn= './data/'\n",
    "    pathOut = 'output.avi'\n",
    "    fps = 29.0\n",
    "    convert_frames_to_video(pathIn, pathOut, fps)\n",
    "\n",
    "if __name__==\"__main__\":\n",
    "    main()"
   ]
  }
 ],
 "metadata": {
  "kernelspec": {
   "display_name": "Python 3 (ipykernel)",
   "language": "python",
   "name": "python3"
  },
  "language_info": {
   "codemirror_mode": {
    "name": "ipython",
    "version": 3
   },
   "file_extension": ".py",
   "mimetype": "text/x-python",
   "name": "python",
   "nbconvert_exporter": "python",
   "pygments_lexer": "ipython3",
   "version": "3.9.13"
  }
 },
 "nbformat": 4,
 "nbformat_minor": 5
}
